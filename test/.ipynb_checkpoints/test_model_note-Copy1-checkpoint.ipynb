{
 "cells": [
  {
   "cell_type": "code",
   "execution_count": 1,
   "metadata": {},
   "outputs": [],
   "source": [
    "\n",
    "\n",
    "import numpy as np\n",
    "import torch\n",
    "from torch.utils.data import DataLoader\n",
    "\n",
    "\n",
    "\n",
    "\n",
    "import os\n",
    "import numpy as np\n",
    "from data_utils.data_generator import  *\n",
    "from utils import get_bb_content_pil, get_velocity, get_occupancy_grid,overlap\n",
    "import torch\n",
    "from torch import nn\n",
    "import torch.nn.functional as F\n",
    "from torch.utils.data import DataLoader, random_split\n",
    "\n",
    "import cv2\n",
    "import pytorch_lightning as pl\n",
    "from argparse import ArgumentParser\n",
    "from cues import *\n",
    "from torch.utils.data import Dataset\n",
    "from data_utils.data_load import *\n",
    "from torch.autograd import Variable\n",
    "from utils import get_bb_center\n",
    "from PIL import Image\n",
    "from train_svm import *\n",
    "from tracker_test import *\n",
    "import csv\n",
    "\n",
    "\n",
    "from utils import overlap\n",
    "from spatial_attention import *\n",
    "import motmetrics\n",
    "from visualize_tracker import visualize_trackers,frames_to_video,save_video\n",
    "import matplotlib.pyplot as plt\n",
    "\n",
    "import torchreid\n",
    "from utils import *"
   ]
  },
  {
   "cell_type": "code",
   "execution_count": 2,
   "metadata": {},
   "outputs": [],
   "source": [
    "    \n",
    "    \n",
    "def testing_loop( detections,frames):\n",
    "        tracker.reset()\n",
    "        data = []\n",
    "        detections_by_frame = groupby(detections,0)\n",
    "        for i in range(int(np.max(list(detections_by_frame.keys())))):\n",
    "            if i in detections_by_frame.keys():\n",
    "                data.append(detections_by_frame[i])\n",
    "            else :\n",
    "                data.append([])\n",
    "        dataset = dataset_dhn(data = data,frames =frames)\n",
    "        data_loader = DataLoader(dataset, batch_size=1, shuffle=False)\n",
    "        assigned= 0\n",
    "        for i, (dets_,frame) in enumerate(data_loader):\n",
    "            print('in frame i ==',i)\n",
    "            \n",
    "            if  type(dets_) == list:\n",
    "                continue\n",
    "            \n",
    "            dets = dets_[0]\n",
    "            img = Image.open(frame[0])\n",
    "            assigned += tracker.testing_step(dets=dets,frame = img,frame_source = frame[0])\n",
    "        \n",
    "        del data_loader\n",
    "        del dataset\n",
    "        torch.cuda.empty_cache()\n"
   ]
  },
  {
   "cell_type": "raw",
   "metadata": {},
   "source": []
  },
  {
   "cell_type": "code",
   "execution_count": 3,
   "metadata": {},
   "outputs": [
    {
     "name": "stdout",
     "output_type": "stream",
     "text": [
      "0\n",
      "/media/data/gauthier/MOT16/train/MOT16-05/img1/000001.jpg\n",
      "837\n",
      "1\n",
      "/media/data/gauthier/MOT16/train/MOT16-13/img1/000001.jpg\n",
      "750\n",
      "2\n",
      "/media/data/gauthier/MOT16/train/MOT16-10/img1/000001.jpg\n",
      "654\n",
      "3\n",
      "/media/data/gauthier/MOT16/train/MOT16-02/img1/000001.jpg\n",
      "601\n",
      "4\n",
      "/media/data/gauthier/MOT16/train/MOT16-11/img1/000001.jpg\n",
      "900\n",
      "5\n",
      "/media/data/gauthier/MOT16/train/MOT16-04/img1/000001.jpg\n",
      "1050\n",
      "6\n",
      "/media/data/gauthier/MOT16/train/MOT16-09/img1/000001.jpg\n",
      "525\n"
     ]
    }
   ],
   "source": [
    "\n",
    "\n",
    "\n",
    "dets15,gts15, frames15 = gen_mot2016_npy()\n",
    "print(0)\n",
    "print(frames15[0][0])\n",
    "print(len(frames15[0]))\n",
    "\n",
    "for i in range(1,len(frames15)):\n",
    "    print(i)\n",
    "    #active_svm,max_height,max_width,max_score= train_svm_active(detections_list[i], gts_list[i], Image.open(frames_list[i][0]),0.2,0.5,max_height,max_width,max_score)\n",
    "    print(frames15[i][0])\n",
    "    print(len(frames15[i]))\n"
   ]
  },
  {
   "cell_type": "code",
   "execution_count": null,
   "metadata": {},
   "outputs": [],
   "source": []
  },
  {
   "cell_type": "code",
   "execution_count": 4,
   "metadata": {
    "scrolled": false
   },
   "outputs": [
    {
     "name": "stdout",
     "output_type": "stream",
     "text": [
      "5\n",
      "[ 1.0000e+00 -1.0000e+00  6.3135e+02  4.1466e+02  4.8246e+01  1.4674e+02\n",
      "  5.0919e-01 -1.0000e+00 -1.0000e+00 -1.0000e+00]\n",
      "input bb [ -1.     -1.    631.35  414.66  679.596 561.4  ]\n",
      "bb_Scale\n",
      "[385. 169. 414. 228.]\n",
      "bbbbbb rerretetetetete [325. 109. 474. 288.]\n",
      "27000\n",
      "croproprop shapepepep0 (180, 150)\n",
      "bbcropop [ 60.  60.  89. 119.]\n",
      "scale =  [0.60918653 0.40611886]\n",
      "bb_ret = [325. 109. 474. 288.]\n",
      "-------\n",
      "  \n",
      "  \n",
      "  \n",
      "6\n",
      "[ 1.0000e+00 -1.0000e+00  1.1690e+03  4.0900e+02  3.9000e+01  1.1900e+02\n",
      "  5.0583e-01 -1.0000e+00 -1.0000e+00 -1.0000e+00]\n",
      "input bb [-1.000e+00 -1.000e+00  1.169e+03  4.090e+02  1.208e+03  5.280e+02]\n",
      "bb_Scale\n",
      "[877. 205. 906. 264.]\n",
      "bbbbbb rerretetetetete [817. 145. 966. 324.]\n",
      "27000\n",
      "croproprop shapepepep0 (180, 150)\n",
      "bbcropop [ 60.  60.  89. 119.]\n",
      "scale =  [0.75 0.5 ]\n",
      "bb_ret = [817. 145. 966. 324.]\n",
      "-------\n",
      "  \n",
      "  \n",
      "  \n"
     ]
    }
   ],
   "source": [
    "from lk_utils import *\n",
    "\n",
    "ds_idx = 2\n",
    "e =groupby(dets15[ds_idx],0)\n",
    "new_crops  = []\n",
    "frame = 1\n",
    "for i in range(5,7):\n",
    "    print(i)\n",
    "    print(e[frame][i])\n",
    "    bb = np.array([-1,-1,e[frame][i][2],e[frame][i][3],e[frame][i][2]+e[frame][i][4],e[frame][i][3]+e[frame][i][5]])\n",
    "    \n",
    "    print('input bb',bb)\n",
    "    new_crop, ret_bb_crop, bb_ret, s = lk_crop_bbox(bb,(frames15[ds_idx][frame]))\n",
    "    print(new_crop.size)\n",
    "    new_crops.append(new_crop)\n",
    "    print('croproprop shapepepep0',new_crop.shape)\n",
    "    print('bbcropop',ret_bb_crop)\n",
    "    print('scale = ',s)\n",
    "    print('bb_ret =' ,bb_ret)\n",
    "    print('-------')\n",
    "    print('  ')\n",
    "\n",
    "    print('  ')\n",
    "\n",
    "            \n",
    "    print('  ')\n",
    "    \n",
    "\n"
   ]
  },
  {
   "cell_type": "code",
   "execution_count": 5,
   "metadata": {},
   "outputs": [
    {
     "data": {
      "text/plain": [
       "<matplotlib.image.AxesImage at 0x7f31a9fa6550>"
      ]
     },
     "execution_count": 5,
     "metadata": {},
     "output_type": "execute_result"
    },
    {
     "data": {
      "image/png": "[encoded data removed]",
      "text/plain": [
       "<Figure size 432x288 with 1 Axes>"
      ]
     },
     "metadata": {
      "needs_background": "light"
     },
     "output_type": "display_data"
    }
   ],
   "source": [
    "plt.imshow(new_crop ,cmap='gray', vmin=0, vmax=255)"
   ]
  },
  {
   "cell_type": "code",
   "execution_count": 6,
   "metadata": {},
   "outputs": [],
   "source": [
    "e =groupby(dets15[0],0)\n"
   ]
  },
  {
   "cell_type": "code",
   "execution_count": null,
   "metadata": {},
   "outputs": [],
   "source": [
    "r = cv2.getRectSubPix( np.array(Image.open(frames15[0][0]),dtype=np.float32), (10,10),(3,4) );\n",
    "\n",
    "a = cv2.getRectSubPix( np.array(Image.open(frames15[0][0]),dtype=np.float32), (10,10),(3,4) );"
   ]
  },
  {
   "cell_type": "code",
   "execution_count": null,
   "metadata": {},
   "outputs": [],
   "source": [
    "res = cv2.matchTemplate( r,a,  cv2.TM_CCOEFF_NORMED )\n"
   ]
  },
  {
   "cell_type": "code",
   "execution_count": null,
   "metadata": {},
   "outputs": [],
   "source": [
    "img = cv2.imread(frames15[0][0],0)\n"
   ]
  },
  {
   "cell_type": "code",
   "execution_count": null,
   "metadata": {},
   "outputs": [],
   "source": [
    "img.size\n"
   ]
  },
  {
   "cell_type": "code",
   "execution_count": null,
   "metadata": {},
   "outputs": [],
   "source": [
    "cv2.INTER_AREA"
   ]
  },
  {
   "cell_type": "code",
   "execution_count": null,
   "metadata": {},
   "outputs": [],
   "source": [
    "active_svm,max_height,max_width,max_score= train_svm_active(dets15[0], gts15[0], Image.open(frames15[0][0]),0.2,0.5)\n",
    "\n",
    "#for i in range(1,len(dets15)):\n",
    "#    active_svm,max_height,max_width,max_score= train_svm_active(dets15[i], gts15[i], Image.open(frames15[i][0]),0.2,0.5,max_height,max_width,max_score,svm=active_svm)\n",
    "    \n"
   ]
  },
  {
   "cell_type": "code",
   "execution_count": null,
   "metadata": {
    "scrolled": false
   },
   "outputs": [],
   "source": [
    "\n",
    "test_idx = 2\n",
    "\n",
    "\n",
    "\n",
    "seq_length = 6\n",
    "\n",
    "collect_sequences = dict()\n",
    "collect_start_points = list()\n",
    "\n",
    "device = 'cuda'\n",
    "\n",
    "\n",
    "H =128\n",
    "k =100\n",
    "grid_height = 15\n",
    "grid_width= 15\n",
    "subgrid_height = 7\n",
    "subgrid_width = 7\n",
    "\n",
    "\n",
    "d = torch.load('../model_saves/target_motion_intsoftmax_100_5.pth.tar')\n",
    "int_check  =torch.load('../model_saves/interaction15_100_5.pth.tar')\n",
    "interaction = Cue(H=128, k=100,input_fc_dim=49,is_train=False,is_app =False)    \n",
    "\n",
    "interaction.load_state_dict(int_check['model_weight'])\n",
    "motion = Cue(H=128, k=100,input_fc_dim=2,is_train=False,is_app =False)    \n",
    "motion_check = torch.load('../model_saves/motion15_100_5.pth.tar')\n",
    "motion.load_state_dict(motion_check['model_weight'])\n",
    "\n",
    "\n",
    "from torchreid.utils import FeatureExtractor\n",
    "cnn = FeatureExtractor(\n",
    "    model_name='osnet_x1_0',\n",
    "    model_path='../model_saves/cnn_softmaxFalse.pth.tar',\n",
    "    device='cuda'\n",
    ")\n",
    "\n",
    "appearance = Cue(H=500, k=500,input_fc_dim=-1,is_train=False,is_app =True)  #SpatialAttention(is_train=True,num_classes=1274)\n",
    "app_dict = torch.load('../model_saves/appearanceTruesoftmax_100.pth.tar')\n",
    "appearance.load_state_dict(app_dict['model_weight'])\n",
    "appearance.eval()\n",
    "\n",
    "appearance =None\n",
    "#interaction =None\n",
    "\n",
    "\n",
    "cnn =None\n",
    "\n",
    "target_input_dim = 200\n",
    "target =  Target(H=128, k = 100,seq_len = seq_length,\n",
    "                 appearance = appearance,motion =motion,interaction=interaction,\n",
    "                 input_dim = target_input_dim,is_train=False)\n",
    "target.load_state_dict(d['model_weight'])\n",
    "#target = appearance\n",
    "threshold_association =0.5\n",
    "threshold_overlap = 0.5\n",
    "threshold_to_kill= 9\n",
    "threshold_reid= 0.5\n",
    "threshold_conflict= 0.7\n",
    "threshold_confidence = 0.3\n",
    "minimum_confidence= 0.1\n",
    "\n",
    "target = target.to(device)\n",
    "target.eval()\n",
    "\n",
    "\n",
    "\n",
    "#testing_loop(detections = dets15[test_idx],frames= frames15[test_idx])\n",
    "\n"
   ]
  },
  {
   "cell_type": "code",
   "execution_count": null,
   "metadata": {},
   "outputs": [],
   "source": [
    "\n",
    "def train_svm(seq,dets,gts,frames):\n",
    "    \n",
    "    if seq == 0:\n",
    "        return train_svm_active(dets[2], gts[2], Image.open(frames[2][0]),0.2,0.5)\n",
    "    if seq ==2:\n",
    "        return train_svm_active(dets[2], gts[2], Image.open(frames[2][0]),0.2,0.5)\n",
    "\n",
    "    if seq == 3 or seq ==10:\n",
    "        return train_svm_active(dets[1], gts[1], Image.open(frames[1][0]),0.2,0.5)\n",
    "        \n",
    "    if seq == 6 or seq ==7:\n",
    "        return train_svm_active(dets[9], gts[9], Image.open(frames[9][0]),0.2,0.5)\n",
    "    if seq == 4 :\n",
    "        return  train_svm_active(dets[5], gts[5], Image.open(frames[5][0]),0.2,0.5)\n"
   ]
  },
  {
   "cell_type": "code",
   "execution_count": null,
   "metadata": {
    "scrolled": true
   },
   "outputs": [],
   "source": [
    "res = []#0,3,4,6,7,10\n",
    "import warnings\n",
    "warnings.filterwarnings('ignore')\n",
    "\n",
    "for test_idx in [10]:#,3,4,6,7,10]:\n",
    "    \n",
    "    \n",
    "    print('test number ',test_idx)\n",
    "    print('testing video:',frames15[test_idx][0])\n",
    "    print('length of video',len(frames15[test_idx]))\n",
    "    \n",
    "    #tracker.reset()\n",
    "    active_svm,max_height,max_width,max_score= train_svm(test_idx,dets15,gts15,frames15)\n",
    "\n",
    "    \n",
    "    max_width = np.max(dets15[test_idx][:,4])\n",
    "    max_height = np.max(dets15[test_idx][:,5])\n",
    "    max_score = np.max(dets15[test_idx][:,6])\n",
    "    tracker = Tracker(target_lstm=target,cnn =cnn,active_svm=active_svm,seq_length=seq_length,\n",
    "                  grid_height=grid_height, grid_width=grid_width, subgrid_height=subgrid_height,\n",
    "                  subgrid_width=subgrid_width, threshold_association=threshold_association,\n",
    "                  threshold_overlap=threshold_overlap,threshold_to_kill=threshold_to_kill,\n",
    "                  threshold_confidence = threshold_confidence,\n",
    "                  threshold_reid=threshold_reid,device=device,max_height=max_height, threshold_conflict=threshold_conflict,\n",
    "                  minimum_confidence=minimum_confidence,\n",
    "                  max_width=max_width,max_score=max_score)\n",
    "\n",
    "    testing_loop(detections = dets15[test_idx],frames= frames15[test_idx])\n",
    "    #testing_loop(detections = gts15[test_idx],frames= frames15[test_idx]) to test with GT detections\n",
    "    e_idx = 6\n",
    "    e = frames15[test_idx][0].split('/')\n",
    "    \n",
    "    write_targets = [tracked_t for tracked_t in tracker.targets if len(tracked_t.tracks) > 5]\n",
    "    #write_targets = tracker.targets\n",
    "    if os.path.exists('../results/'+e[e_idx]+'.txt'):\n",
    "        os.remove('../results/'+e[e_idx]+'.txt')\n",
    "\n",
    "    write_results(targets = write_targets,filename='../results/'+e[e_idx]+'.txt')\n",
    "    \n",
    "    stdout_str = os.popen(\"python -m motmetrics.apps.eval_motchallenge /media/data/gauthier/MOT15/train {} \".format('../results/')).read()\n",
    "    \n",
    "    print('true')\n",
    "    print(stdout_str)\n",
    "    \n",
    "    print('falsee')\n",
    "    res += [evaluate(gts15[test_idx],'../results/'+e[e_idx]+'.txt')]\n",
    "    \n",
    "    save_video(e[e_idx],frames15[test_idx])\n",
    "    "
   ]
  },
  {
   "cell_type": "code",
   "execution_count": null,
   "metadata": {},
   "outputs": [],
   "source": [
    "frame = Image.open(frames15[0][0])"
   ]
  },
  {
   "cell_type": "code",
   "execution_count": null,
   "metadata": {},
   "outputs": [],
   "source": [
    "old_gray = cv2.cvtColor(np.array(frame.crop([0,0,10,10]),dtype='float32'), cv2.COLOR_RGB2BGR)\n",
    "old_gray = cv2.cvtColor(old_gray, cv2.COLOR_BGR2GRAY)\n"
   ]
  },
  {
   "cell_type": "code",
   "execution_count": null,
   "metadata": {},
   "outputs": [],
   "source": [
    "np.array(frame.crop([0,0,10,10]),dtype='float32')"
   ]
  },
  {
   "cell_type": "code",
   "execution_count": null,
   "metadata": {},
   "outputs": [],
   "source": [
    "np.array(frame.crop([0,0,10,10]))"
   ]
  },
  {
   "cell_type": "code",
   "execution_count": null,
   "metadata": {},
   "outputs": [],
   "source": [
    "ret_bb = np.array([max_det_bb,pred_bb])\n",
    "ret_bb = np.mean(ret_bb,axis=0)\n"
   ]
  },
  {
   "cell_type": "code",
   "execution_count": null,
   "metadata": {},
   "outputs": [],
   "source": [
    "e = np.array(dets15[0][0])\n",
    "r = e +1"
   ]
  },
  {
   "cell_type": "code",
   "execution_count": null,
   "metadata": {},
   "outputs": [],
   "source": [
    "e =dets15[0][0:3]\n",
    "r = np.argsort(e[:,6])[::-1]\n"
   ]
  },
  {
   "cell_type": "code",
   "execution_count": null,
   "metadata": {},
   "outputs": [],
   "source": [
    "np.mean(np.array([e,r]),axis=0)"
   ]
  },
  {
   "cell_type": "code",
   "execution_count": null,
   "metadata": {},
   "outputs": [],
   "source": [
    "def get_c(frame,detection):\n",
    "    \n",
    "    \n",
    "    \n",
    "    x = detection[2]\n",
    "    y = detection[3]\n",
    "    width = detection[4]\n",
    "    height = detection[5]\n",
    "\n",
    "    bb_content = frame.crop(\n",
    "        (np.maximum(int(x), 0), np.maximum(int(y), 0), int(x) + math.ceil(width), int(y) + math.ceil(height)))\n",
    "    return bb_content"
   ]
  },
  {
   "cell_type": "code",
   "execution_count": null,
   "metadata": {},
   "outputs": [],
   "source": [
    "ci,e,r,_ = lk_crop_bbox([-1,-1,0,0,50,50],Image.open(frames15[0][0]))\n",
    "cj,e,r,_ = lk_crop_bbox([-1,-1,0,0,50,50],Image.open(frames15[0][6]))\n"
   ]
  },
  {
   "cell_type": "code",
   "execution_count": null,
   "metadata": {},
   "outputs": [],
   "source": [
    "\n",
    "bb3 = []\n",
    "img_i = get_c(frame=Image.open(frames15[0][0]), detection=dets15[0][0])\n",
    "img_j = get_c(frame=Image.open(frames15[0][1]), detection=dets15[0][6])\n",
    "\n",
    "from lk_utils import *\n",
    "i_points = bb_points([0,0,50,50],3,2)\n",
    "j_points = i_points\n",
    "\n",
    "old_gray = cv2.cvtColor(np.array(ci), cv2.COLOR_RGB2BGR)\n",
    "old_gray = cv2.cvtColor(old_gray, cv2.COLOR_BGR2GRAY)\n",
    "\n",
    "new_gray = cv2.cvtColor(np.array(cj), cv2.COLOR_RGB2BGR)\n",
    "new_gray = cv2.cvtColor(new_gray, cv2.COLOR_BGR2GRAY)\n",
    "\n",
    "p0 = np.expand_dims(i_points,axis=1)\n",
    "p0 = np.array(p0,dtype=np.float32)\n",
    "\n",
    "p2 = copy.deepcopy(p0)\n",
    "# Create some random colors\n",
    "feature_params = dict( maxCorners = 100,\n",
    "                       qualityLevel = 0.3,\n",
    "                       minDistance = 7,\n",
    "                       blockSize = 7 )\n",
    "p1 = cv2.goodFeaturesToTrack(old_gray, mask = None, **feature_params)\n",
    "    \n",
    "#p1 = np.array(p1,dtype=np.float32)\n",
    "#p0 = cv2.goodFeaturesToTrack(old_gray, mask = None, **feature_params)\n",
    "\n",
    "fp, st, err = cv2.calcOpticalFlowPyrLK(old_gray, new_gray, p0, cv2.UMat(p2),winSize=(3,3),maxLevel =2,flags =4)\n",
    "                                      \n",
    "#bp, st, err = cv2.calcOpticalFlowPyrLK(new_gray, old_gray, fp, None, winSize=(10,10),maxLevel =2, criteria = (cv2.TERM_CRITERIA_EPS , cv2.TERM_CRITERIA_COUNT))\n",
    "\n",
    "\n"
   ]
  },
  {
   "cell_type": "code",
   "execution_count": null,
   "metadata": {},
   "outputs": [],
   "source": [
    " cv2.OPTFLOW_USE_INITIAL_FLOW"
   ]
  },
  {
   "cell_type": "code",
   "execution_count": null,
   "metadata": {},
   "outputs": [],
   "source": [
    "np.linalg.norm(fp,axis=1,ord=1)"
   ]
  },
  {
   "cell_type": "code",
   "execution_count": null,
   "metadata": {},
   "outputs": [],
   "source": [
    "p0[fp < 10]"
   ]
  },
  {
   "cell_type": "code",
   "execution_count": null,
   "metadata": {},
   "outputs": [],
   "source": [
    "feature_params = dict( maxCorners = 100,\n",
    "                       qualityLevel = 0.3,\n",
    "                       minDistance = 7,\n",
    "                      blockSize = 7 )\n",
    "\n",
    "p0 = cv2.goodFeaturesToTrack(old_gray, mask = None, **feature_params)\n"
   ]
  },
  {
   "cell_type": "code",
   "execution_count": null,
   "metadata": {},
   "outputs": [],
   "source": [
    "p0.shape"
   ]
  },
  {
   "cell_type": "code",
   "execution_count": null,
   "metadata": {},
   "outputs": [],
   "source": [
    "p1 = p1+1"
   ]
  },
  {
   "cell_type": "code",
   "execution_count": null,
   "metadata": {},
   "outputs": [],
   "source": [
    "print(np.sqrt(np.power(p0 - p1, 2).sum(axis=2)))\n",
    "\n",
    "\n",
    "\n",
    "print(np.linalg.norm(p0 - p1,axis=2,ord=2))"
   ]
  },
  {
   "cell_type": "code",
   "execution_count": null,
   "metadata": {
    "scrolled": true
   },
   "outputs": [],
   "source": [
    "i_points = bb_points([0,0,50,50],10,10)\n",
    "print(type(np.expand_dims(i_points,axis=1)))\n",
    "o = np.expand_dims(i_points,axis=1)\n",
    "o = np.asarray(o,dtype=np.float32)\n",
    "o.dtype"
   ]
  },
  {
   "cell_type": "code",
   "execution_count": null,
   "metadata": {},
   "outputs": [],
   "source": [
    "np.array(p0)"
   ]
  },
  {
   "cell_type": "code",
   "execution_count": null,
   "metadata": {},
   "outputs": [],
   "source": [
    "# params for ShiTomasi corner detection\n",
    "feature_params = dict( maxCorners = 100,\n",
    "                       qualityLevel = 0.3,\n",
    "                       minDistance = 7,\n",
    "                       blockSize = 7 )\n",
    "\n",
    "# Parameters for lucas kanade optical flow\n",
    "lk_params = dict( winSize  = (15,15),\n",
    "                  maxLevel = 2,\n",
    "                  criteria = (cv2.TERM_CRITERIA_EPS | cv2.TERM_CRITERIA_COUNT, 10, 0.03))\n",
    "\n",
    "# Create some random colors\n",
    "\n",
    "p0 = cv2.goodFeaturesToTrack(new_gray, mask = None, **feature_params)\n",
    "\n",
    "# Create a mask image for drawing purposes\n",
    "\n",
    "# calculate optical flow\n",
    "p1, st, err = cv2.calcOpticalFlowPyrLK(old_gray, old_gray, p0, None, **lk_params)\n",
    "\n"
   ]
  },
  {
   "cell_type": "code",
   "execution_count": null,
   "metadata": {},
   "outputs": [],
   "source": [
    "np.sqrt(np.power(bp - i_points, 2).sum(axis=2))#"
   ]
  },
  {
   "cell_type": "code",
   "execution_count": null,
   "metadata": {},
   "outputs": [],
   "source": [
    "a = 0\n",
    "for i in range(len(res)):\n",
    "    a+= res[i]\n",
    "a/len(res)"
   ]
  },
  {
   "cell_type": "code",
   "execution_count": null,
   "metadata": {},
   "outputs": [],
   "source": [
    "len(res)"
   ]
  },
  {
   "cell_type": "code",
   "execution_count": null,
   "metadata": {},
   "outputs": [],
   "source": [
    "tracker.targets[1].apps"
   ]
  },
  {
   "cell_type": "code",
   "execution_count": null,
   "metadata": {},
   "outputs": [],
   "source": [
    "dets15_test, frames15_test = gen_mot2015test_npy()"
   ]
  },
  {
   "cell_type": "code",
   "execution_count": null,
   "metadata": {},
   "outputs": [],
   "source": [
    "\n",
    "\n",
    "for i in range(1,len(frames15_test)):\n",
    "    print(i)\n",
    "    #active_svm,max_height,max_width,max_score= train_svm_active(detections_list[i], gts_list[i], Image.open(frames_list[i][0]),0.2,0.5,max_height,max_width,max_score)\n",
    "    print(frames15_test[i][0])\n",
    "    print(len(frames15_test[i]))\n"
   ]
  },
  {
   "cell_type": "code",
   "execution_count": null,
   "metadata": {},
   "outputs": [],
   "source": []
  }
 ],
 "metadata": {
  "kernelspec": {
   "display_name": "Python 3",
   "language": "python",
   "name": "python3"
  },
  "language_info": {
   "codemirror_mode": {
    "name": "ipython",
    "version": 3
   },
   "file_extension": ".py",
   "mimetype": "text/x-python",
   "name": "python",
   "nbconvert_exporter": "python",
   "pygments_lexer": "ipython3",
   "version": "3.8.5"
  }
 },
 "nbformat": 4,
 "nbformat_minor": 4
}
